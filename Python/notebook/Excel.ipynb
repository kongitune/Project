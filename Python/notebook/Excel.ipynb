{
 "cells": [
  {
   "cell_type": "code",
   "execution_count": 31,
   "metadata": {},
   "outputs": [
    {
     "name": "stdout",
     "output_type": "stream",
     "text": [
      "sheet length： 3\n",
      "['Orders', 'Returns', 'People']\n"
     ]
    }
   ],
   "source": [
    "import os\n",
    "import pandas as pd\n",
    "\n",
    "# 相対パスの取得\n",
    "name = os.path.dirname(os.path.abspath(__name__)) \n",
    "joined_path = os.path.join(name, '../data/Sample - Superstore.xls')\n",
    "data_path = os.path.normpath(joined_path)\n",
    "\n",
    "# Excelファイル要素確認\n",
    "book = pd.ExcelFile(data_path)\n",
    "print(\"sheet length：\", len(book.sheet_names))\n",
    "print(book.sheet_names)"
   ]
  },
  {
   "cell_type": "code",
   "execution_count": 34,
   "metadata": {},
   "outputs": [
    {
     "name": "stdout",
     "output_type": "stream",
     "text": [
      "sheet name: Orders\n"
     ]
    }
   ],
   "source": [
    "sheet= book.parse(input_sheet_name[0])\n",
    "print(\"sheet name:\", input_sheet_name[0])\n",
    "\n",
    "#sheet.head()\n",
    "#sheet.tail()\n",
    "sheet.to_csv('./Sample - Superstore.csv', encoding='utf-8')"
   ]
  },
  {
   "cell_type": "code",
   "execution_count": null,
   "metadata": {},
   "outputs": [],
   "source": []
  },
  {
   "cell_type": "code",
   "execution_count": null,
   "metadata": {},
   "outputs": [],
   "source": []
  },
  {
   "cell_type": "code",
   "execution_count": null,
   "metadata": {},
   "outputs": [],
   "source": []
  }
 ],
 "metadata": {
  "kernelspec": {
   "display_name": "Python 3",
   "language": "python",
   "name": "python3"
  },
  "language_info": {
   "codemirror_mode": {
    "name": "ipython",
    "version": 3
   },
   "file_extension": ".py",
   "mimetype": "text/x-python",
   "name": "python",
   "nbconvert_exporter": "python",
   "pygments_lexer": "ipython3",
   "version": "3.6.4"
  }
 },
 "nbformat": 4,
 "nbformat_minor": 2
}
